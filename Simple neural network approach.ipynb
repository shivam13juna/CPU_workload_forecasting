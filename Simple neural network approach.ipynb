{
 "cells": [
  {
   "cell_type": "code",
   "execution_count": 47,
   "metadata": {},
   "outputs": [],
   "source": [
    "target_feature = 'vnf cpu usage'"
   ]
  },
  {
   "cell_type": "code",
   "execution_count": 101,
   "metadata": {},
   "outputs": [],
   "source": [
    "import numpy as np\n",
    "import pandas as pd\n",
    "from multiprocessing.pool import ThreadPool\n",
    "import csv\n",
    "import matplotlib.pyplot as plt\n",
    "import argparse\n",
    "import time\n",
    "import torch\n",
    "import torch.nn as nn\n",
    "# import preprocess_data\n",
    "# from model import model\n",
    "from torch import optim\n",
    "from pathlib import Path\n",
    "import pickle\n",
    "# from anomalyDetector import fit_norm_distribution_param\n",
    "\n",
    "\n",
    "\n",
    "\n",
    "import tensorflow\n",
    "from tensorflow.keras.models import Sequential\n",
    "from tensorflow.keras.layers import LSTM, Dropout, Dense\n",
    "from tensorflow.keras.callbacks import EarlyStopping\n",
    "from tensorflow.keras.layers import Activation\n",
    "import lightgbm as lgb\n",
    "from scipy.stats import pearsonr\n",
    "\n",
    "\n",
    "\n",
    "\n",
    "\n",
    "%matplotlib inline"
   ]
  },
  {
   "cell_type": "code",
   "execution_count": 11,
   "metadata": {},
   "outputs": [],
   "source": [
    "fgs = pd.read_csv('fgs.csv')"
   ]
  },
  {
   "cell_type": "code",
   "execution_count": 12,
   "metadata": {},
   "outputs": [
    {
     "data": {
      "text/html": [
       "<div>\n",
       "<style scoped>\n",
       "    .dataframe tbody tr th:only-of-type {\n",
       "        vertical-align: middle;\n",
       "    }\n",
       "\n",
       "    .dataframe tbody tr th {\n",
       "        vertical-align: top;\n",
       "    }\n",
       "\n",
       "    .dataframe thead th {\n",
       "        text-align: right;\n",
       "    }\n",
       "</style>\n",
       "<table border=\"1\" class=\"dataframe\">\n",
       "  <thead>\n",
       "    <tr style=\"text-align: right;\">\n",
       "      <th></th>\n",
       "      <th></th>\n",
       "      <th></th>\n",
       "      <th></th>\n",
       "      <th>4963594775</th>\n",
       "      <th>1</th>\n",
       "      <th>2</th>\n",
       "    </tr>\n",
       "  </thead>\n",
       "  <tbody>\n",
       "    <tr>\n",
       "      <td>proxy.9.5698</td>\n",
       "      <td>traffic counter.7.5664</td>\n",
       "      <td>0.971442</td>\n",
       "      <td>82.243099</td>\n",
       "      <td>1.794354</td>\n",
       "      <td>9.341767</td>\n",
       "      <td>100.0</td>\n",
       "    </tr>\n",
       "    <tr>\n",
       "      <td>5402488769</td>\n",
       "      <td>5</td>\n",
       "      <td>1.000000</td>\n",
       "      <td>NaN</td>\n",
       "      <td>NaN</td>\n",
       "      <td>NaN</td>\n",
       "      <td>NaN</td>\n",
       "    </tr>\n",
       "    <tr>\n",
       "      <td>traffic counter.7.7413</td>\n",
       "      <td>proxy.9.11244</td>\n",
       "      <td>4.060322</td>\n",
       "      <td>119.086081</td>\n",
       "      <td>16.548350</td>\n",
       "      <td>8.474562</td>\n",
       "      <td>150.0</td>\n",
       "    </tr>\n",
       "    <tr>\n",
       "      <td>proxy.9.11244</td>\n",
       "      <td>proxy.9.2362</td>\n",
       "      <td>0.268318</td>\n",
       "      <td>23.865256</td>\n",
       "      <td>11.573841</td>\n",
       "      <td>9.248256</td>\n",
       "      <td>150.0</td>\n",
       "    </tr>\n",
       "    <tr>\n",
       "      <td>proxy.9.2362</td>\n",
       "      <td>traffic counter.7.9524</td>\n",
       "      <td>2.961259</td>\n",
       "      <td>80.083566</td>\n",
       "      <td>18.280812</td>\n",
       "      <td>4.783467</td>\n",
       "      <td>150.0</td>\n",
       "    </tr>\n",
       "  </tbody>\n",
       "</table>\n",
       "</div>"
      ],
      "text/plain": [
       "                                                                   4963594775  \\\n",
       "proxy.9.5698           traffic counter.7.5664 0.971442 82.243099     1.794354   \n",
       "5402488769             5                      1.000000 NaN                NaN   \n",
       "traffic counter.7.7413 proxy.9.11244          4.060322 119.086081   16.548350   \n",
       "proxy.9.11244          proxy.9.2362           0.268318 23.865256    11.573841   \n",
       "proxy.9.2362           traffic counter.7.9524 2.961259 80.083566    18.280812   \n",
       "\n",
       "                                                                          1  \\\n",
       "proxy.9.5698           traffic counter.7.5664 0.971442 82.243099   9.341767   \n",
       "5402488769             5                      1.000000 NaN              NaN   \n",
       "traffic counter.7.7413 proxy.9.11244          4.060322 119.086081  8.474562   \n",
       "proxy.9.11244          proxy.9.2362           0.268318 23.865256   9.248256   \n",
       "proxy.9.2362           traffic counter.7.9524 2.961259 80.083566   4.783467   \n",
       "\n",
       "                                                                       2  \n",
       "proxy.9.5698           traffic counter.7.5664 0.971442 82.243099   100.0  \n",
       "5402488769             5                      1.000000 NaN           NaN  \n",
       "traffic counter.7.7413 proxy.9.11244          4.060322 119.086081  150.0  \n",
       "proxy.9.11244          proxy.9.2362           0.268318 23.865256   150.0  \n",
       "proxy.9.2362           traffic counter.7.9524 2.961259 80.083566   150.0  "
      ]
     },
     "execution_count": 12,
     "metadata": {},
     "output_type": "execute_result"
    }
   ],
   "source": [
    "fgs.head()"
   ]
  },
  {
   "cell_type": "code",
   "execution_count": 13,
   "metadata": {},
   "outputs": [],
   "source": [
    "vns = pd.read_csv('vnfs.csv', header=None)"
   ]
  },
  {
   "cell_type": "code",
   "execution_count": 30,
   "metadata": {},
   "outputs": [],
   "source": [
    "vnf_id = vns[vns.columns[0]].values\n",
    "vnf_type = vns[vns.columns[1]].values\n",
    "vnf_scheduling = vns[vns.columns[2]].values\n",
    "vnf_pm = vns[vns.columns[3]].values\n",
    "vnf_fg = vns[vns.columns[4]].values\n",
    "flavor_data = vns[vns.columns[5:8]].values\n",
    "vm_data = vns[vns.columns[8:11]].values\n",
    "usage_data = vns[vns.columns[11:15]].values"
   ]
  },
  {
   "cell_type": "code",
   "execution_count": 44,
   "metadata": {},
   "outputs": [],
   "source": [
    "#Combining all the input data\n",
    "\n",
    "input_data = ['vnf_type', 'vnf_scheduling', 'vnf_pm', 'vnf_fg', 'flavor_data', 'vm_data', 'usage_data']"
   ]
  },
  {
   "cell_type": "code",
   "execution_count": 35,
   "metadata": {},
   "outputs": [
    {
     "name": "stdout",
     "output_type": "stream",
     "text": [
      "vnf_type int64 (12322,)\n",
      "vnf_scheduling int64 (12322,)\n",
      "vnf_pm int64 (12322,)\n",
      "vnf_fg int64 (12322,)\n",
      "flavor_data float64 (12322, 3)\n",
      "vm_data float64 (12322, 3)\n",
      "usage_data float64 (12322, 4)\n"
     ]
    }
   ],
   "source": [
    "for i in input_data:\n",
    "    print(i, (eval(i)).dtype, eval(i).shape) #Exactly what we want"
   ]
  },
  {
   "cell_type": "code",
   "execution_count": 41,
   "metadata": {},
   "outputs": [],
   "source": [
    "data = pd.DataFrame()\n",
    "for i in input_data:\n",
    "    data = pd.concat([data, pd.DataFrame(eval(i))], axis=1)"
   ]
  },
  {
   "cell_type": "code",
   "execution_count": 43,
   "metadata": {},
   "outputs": [
    {
     "data": {
      "text/plain": [
       "(12322, 14)"
      ]
     },
     "execution_count": 43,
     "metadata": {},
     "output_type": "execute_result"
    }
   ],
   "source": [
    "# The reason we're doing this directly not taking this from the dataframe imported above, is because we just wanted to select specific rows. \n",
    "data.shape"
   ]
  },
  {
   "cell_type": "code",
   "execution_count": 95,
   "metadata": {},
   "outputs": [],
   "source": [
    "output = pd.read_csv('new_results_out.csv', sep =';')#header=None)\n",
    "output.drop('Unnamed: 0',axis = 1, inplace=True)\n",
    "output = output[target_feature][:data.shape[0]].values"
   ]
  },
  {
   "cell_type": "code",
   "execution_count": 96,
   "metadata": {},
   "outputs": [
    {
     "data": {
      "text/plain": [
       "(12322,)"
      ]
     },
     "execution_count": 96,
     "metadata": {},
     "output_type": "execute_result"
    }
   ],
   "source": [
    "output.shape"
   ]
  },
  {
   "cell_type": "markdown",
   "metadata": {},
   "source": [
    "### Now starting construction of model"
   ]
  },
  {
   "cell_type": "raw",
   "metadata": {},
   "source": [
    "This model doesn't work so well, apparently neural network models need a lot of data\n",
    "\n",
    "\n",
    "# define the keras model\n",
    "model = Sequential()\n",
    "model.add(Dense(5, input_dim=14, activation='relu'))\n",
    "# model.add(Dense(8, activation='relu'))\n",
    "model.add(Dense(1, activation='sigmoid'))\n",
    "# compile the keras model\n",
    "model.compile(loss='mean_absolute_error', optimizer='adam', metrics=['accuracy'])\n",
    "# fit the keras model on the dataset\n",
    "model.fit(data, output, epochs=5, batch_size=200, verbose=0)\n",
    "# make class predictions with the model\n",
    "predictions = model.predict(data)"
   ]
  },
  {
   "cell_type": "code",
   "execution_count": 97,
   "metadata": {},
   "outputs": [],
   "source": [
    "lgbb = lgb.LGBMRegressor()"
   ]
  },
  {
   "cell_type": "code",
   "execution_count": 98,
   "metadata": {},
   "outputs": [
    {
     "data": {
      "text/plain": [
       "LGBMRegressor(boosting_type='gbdt', class_weight=None, colsample_bytree=1.0,\n",
       "              importance_type='split', learning_rate=0.1, max_depth=-1,\n",
       "              min_child_samples=20, min_child_weight=0.001, min_split_gain=0.0,\n",
       "              n_estimators=100, n_jobs=-1, num_leaves=31, objective=None,\n",
       "              random_state=None, reg_alpha=0.0, reg_lambda=0.0, silent=True,\n",
       "              subsample=1.0, subsample_for_bin=200000, subsample_freq=0)"
      ]
     },
     "execution_count": 98,
     "metadata": {},
     "output_type": "execute_result"
    }
   ],
   "source": [
    "lgbb.fit(data, output)"
   ]
  },
  {
   "cell_type": "code",
   "execution_count": 99,
   "metadata": {},
   "outputs": [],
   "source": [
    "predictions = lgbb.predict(data)"
   ]
  },
  {
   "cell_type": "code",
   "execution_count": 100,
   "metadata": {},
   "outputs": [
    {
     "data": {
      "text/plain": [
       "array([29.25140092, 18.6289052 , 16.95407951, ..., 31.50262267,\n",
       "       24.8838422 , 22.91102014])"
      ]
     },
     "execution_count": 100,
     "metadata": {},
     "output_type": "execute_result"
    }
   ],
   "source": [
    "predictions"
   ]
  },
  {
   "cell_type": "code",
   "execution_count": 102,
   "metadata": {},
   "outputs": [
    {
     "data": {
      "text/plain": [
       "(0.6444400232833617, 0.0)"
      ]
     },
     "execution_count": 102,
     "metadata": {},
     "output_type": "execute_result"
    }
   ],
   "source": [
    "pearsonr(predictions, output)"
   ]
  },
  {
   "cell_type": "code",
   "execution_count": 69,
   "metadata": {},
   "outputs": [
    {
     "data": {
      "text/plain": [
       "0.0055320000000000005"
      ]
     },
     "execution_count": 69,
     "metadata": {},
     "output_type": "execute_result"
    }
   ],
   "source": [
    "np.min(output)"
   ]
  },
  {
   "cell_type": "code",
   "execution_count": null,
   "metadata": {},
   "outputs": [],
   "source": []
  }
 ],
 "metadata": {
  "kernelspec": {
   "display_name": "Python 3",
   "language": "python",
   "name": "python3"
  },
  "language_info": {
   "codemirror_mode": {
    "name": "ipython",
    "version": 3
   },
   "file_extension": ".py",
   "mimetype": "text/x-python",
   "name": "python",
   "nbconvert_exporter": "python",
   "pygments_lexer": "ipython3",
   "version": "3.5.7"
  }
 },
 "nbformat": 4,
 "nbformat_minor": 4
}
